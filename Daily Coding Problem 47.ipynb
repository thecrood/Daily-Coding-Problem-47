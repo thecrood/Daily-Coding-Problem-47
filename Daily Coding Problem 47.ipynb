{
 "cells": [
  {
   "cell_type": "markdown",
   "id": "dd9dfdf8",
   "metadata": {},
   "source": [
    "# Daily Coding Problrm 47"
   ]
  },
  {
   "cell_type": "raw",
   "id": "204782d4",
   "metadata": {},
   "source": [
    "This problem was asked by Facebook.\n",
    "\n",
    "Given a array of numbers representing the stock prices of a company in chronological order, write a function that calculates the maximum profit you could have made from buying and selling that stock once. You must buy before you can sell it.\n",
    "\n",
    "For example, given [9, 11, 8, 5, 7, 10], you should return 5, since you could buy the stock at 5 dollars and sell it at 10 dollars."
   ]
  },
  {
   "cell_type": "markdown",
   "id": "4940800a",
   "metadata": {},
   "source": [
    "# Solution\n",
    "\n",
    "The maximum profit comes from the greatest difference between the highest price and lowest price, where the higher price must come after the lower one. But if we see a high price x and then a higher price y afterwards, then we can always discard x. So, if we keep track of the highest price in the future for each variable, we can immediately find how much profit buying at that price can make.\n",
    "\n",
    "That means we can look at the array backwards and always keep track of the highest price we've seen so far. Then, at each step, we can look at the current price and check how much profit we would have made buying at that price by comparing with our maximum price in the future. Then we only need to make one pass!\n",
    "\n"
   ]
  },
  {
   "cell_type": "code",
   "execution_count": 2,
   "id": "3cc33095",
   "metadata": {},
   "outputs": [
    {
     "name": "stdout",
     "output_type": "stream",
     "text": [
      "5\n"
     ]
    }
   ],
   "source": [
    "def buy_and_sell(arr):\n",
    "    current_max, max_profit = 0, 0\n",
    "    for price in reversed(arr):\n",
    "        current_max = max(current_max, price)\n",
    "        potential_profit = current_max - price\n",
    "        max_profit = max(max_profit, potential_profit)\n",
    "    return max_profit\n",
    "\n",
    "print(buy_and_sell([9, 11, 8, 5, 7, 10]))"
   ]
  },
  {
   "cell_type": "markdown",
   "id": "39c8fda8",
   "metadata": {},
   "source": [
    "This runs in O(N) time and O(1) space."
   ]
  },
  {
   "cell_type": "code",
   "execution_count": null,
   "id": "5073c777",
   "metadata": {},
   "outputs": [],
   "source": []
  }
 ],
 "metadata": {
  "kernelspec": {
   "display_name": "Python 3 (ipykernel)",
   "language": "python",
   "name": "python3"
  },
  "language_info": {
   "codemirror_mode": {
    "name": "ipython",
    "version": 3
   },
   "file_extension": ".py",
   "mimetype": "text/x-python",
   "name": "python",
   "nbconvert_exporter": "python",
   "pygments_lexer": "ipython3",
   "version": "3.8.10"
  }
 },
 "nbformat": 4,
 "nbformat_minor": 5
}
